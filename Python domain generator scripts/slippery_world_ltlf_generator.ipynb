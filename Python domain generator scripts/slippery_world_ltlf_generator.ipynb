{
 "cells": [
  {
   "cell_type": "code",
   "execution_count": 1,
   "id": "16f6be41",
   "metadata": {},
   "outputs": [],
   "source": [
    "# amount of columns and rows. Total amount of locations is gridsize^2\n",
    "gridsize = 6\n",
    "\n",
    "def generate_locations(size):\n",
    "    rows = []\n",
    "    cols = []\n",
    "    \n",
    "    for i in range(size):\n",
    "        rows.append(\"r\"+str(i+1))\n",
    "        cols.append(\"c\"+str(i+1))\n",
    "        \n",
    "    return rows, cols\n",
    "\n",
    "rows, cols  = generate_locations(gridsize)\n",
    "agent_actions = [\"l\", \"r\", \"u\", \"d\"]"
   ]
  },
  {
   "cell_type": "markdown",
   "id": "21937ce3",
   "metadata": {},
   "source": [
    "### partition file: "
   ]
  },
  {
   "cell_type": "code",
   "execution_count": 2,
   "id": "3a2969f0",
   "metadata": {},
   "outputs": [
    {
     "name": "stdout",
     "output_type": "stream",
     "text": [
      ".inputs: r1 r2 r3 r4 r5 r6 c1 c2 c3 c4 c5 c6\n",
      ".outputs: l r u d\n"
     ]
    }
   ],
   "source": [
    "# print out partition file\n",
    "print(\".inputs: \", \" \".join(rows + cols), sep='')\n",
    "print(\".outputs: \", \" \".join(agent_actions), sep='')"
   ]
  },
  {
   "cell_type": "markdown",
   "id": "401afaa8",
   "metadata": {},
   "source": [
    "### mutual exclusion for actions/fluents + agent preconditions"
   ]
  },
  {
   "cell_type": "code",
   "execution_count": 3,
   "id": "89b7addc",
   "metadata": {},
   "outputs": [],
   "source": [
    "def get_mutual_exclusion_actions(actions):\n",
    "    all_actions_or = \" | \".join(actions)\n",
    "    action_combinations = []\n",
    "    \n",
    "    for i, action in enumerate(actions):\n",
    "        for j in range(i+1, len(actions)):\n",
    "            action_combinations.append(\"!(\" + actions[i] + \" & \" + actions[j] + \")\")\n",
    "    \n",
    "    action_comb_str = \" & \".join(action_combinations)\n",
    "    \n",
    "    return all_actions_or, action_comb_str\n",
    "\n",
    "def get_agent_preconditions():\n",
    "    prec_list = []\n",
    "    \n",
    "    prec_list.append(\"(l -> !(\" + cols[0] + \"))\")\n",
    "    prec_list.append(\"(r -> !(\" + cols[-1] + \"))\")\n",
    "    prec_list.append(\"(u -> !(\" + rows[0] + \"))\")\n",
    "    prec_list.append(\"(d -> !(\" + rows[-1] + \"))\")\n",
    "    \n",
    "    return prec_list  "
   ]
  },
  {
   "cell_type": "markdown",
   "id": "e24abe35",
   "metadata": {},
   "source": [
    "### environment transitions (also states that remain the same)"
   ]
  },
  {
   "cell_type": "code",
   "execution_count": 4,
   "id": "a95d169b",
   "metadata": {},
   "outputs": [],
   "source": [
    "def get_environment_transitions():\n",
    "    trans_list = []\n",
    "    \n",
    "    # action left\n",
    "    for i, col in enumerate(cols):\n",
    "        if i == 0:\n",
    "            pass\n",
    "        elif i-1 == 0:\n",
    "            trans_list.append(\"(\" + col + \" -> X(l -> \" + cols[i-1] + \"))\")\n",
    "        else:\n",
    "            trans_list.append(\"(\" + col + \" -> X(l -> (\" + cols[i-1] + \" | \" + cols[i-2] + \")))\")\n",
    "            \n",
    "    # action right\n",
    "    for i, col in enumerate(cols):\n",
    "        if i == len(cols)-1:\n",
    "            pass\n",
    "        elif i == len(cols)-2:\n",
    "            trans_list.append(\"(\" + col + \" -> X(r -> \" + cols[i+1] + \"))\")\n",
    "        else:\n",
    "            trans_list.append(\"(\" + col + \" -> X(r -> (\" + cols[i+1] + \" | \" + cols[i+2] + \")))\")\n",
    "    \n",
    "    # action up\n",
    "    for i, row in enumerate(rows):\n",
    "        if i == 0:\n",
    "            pass\n",
    "        elif i-1 == 0:\n",
    "            trans_list.append(\"(\" + row + \" -> X(u -> \" + rows[i-1] + \"))\")\n",
    "        else:\n",
    "            trans_list.append(\"(\" + row + \" -> X(u -> (\" + rows[i-1] + \" | \" + rows[i-2] + \")))\")\n",
    "            \n",
    "    # action down\n",
    "    for i, row in enumerate(rows):\n",
    "        if i == len(rows)-1:\n",
    "            pass\n",
    "        elif i == len(rows)-2:\n",
    "            trans_list.append(\"(\" + row + \" -> X(d -> \" + rows[i+1] + \"))\")\n",
    "        else:\n",
    "            trans_list.append(\"(\" + row + \" -> X(d -> (\" + rows[i+1] + \" | \" + rows[i+2] + \")))\")\n",
    "        \n",
    "    return trans_list\n",
    "\n",
    "def get_same_next_state():\n",
    "    next_list = []\n",
    "    \n",
    "    # stay in same column when going up or down\n",
    "    for col in cols:\n",
    "        next_list.append(\"(\" + col + \" -> X(u -> \" + col + \"))\")\n",
    "        next_list.append(\"(\" + col + \" -> X(d -> \" + col + \"))\")\n",
    "    \n",
    "    # stay in same row when going left or right\n",
    "    for row in rows:\n",
    "        next_list.append(\"(\" + row + \" -> X(l -> \" + row + \"))\")\n",
    "        next_list.append(\"(\" + row + \" -> X(r -> \" + row + \"))\")\n",
    "        \n",
    "    return next_list\n",
    "\n",
    "env_transitions = get_environment_transitions() + get_same_next_state()\n",
    "\n",
    "# TODO: check if same next state can be removed\n",
    "# env_transitions = get_environment_transitions()"
   ]
  },
  {
   "cell_type": "markdown",
   "id": "6a7f4624",
   "metadata": {},
   "source": [
    "### set init, goal, and game-over states below by hand (hardcoded):"
   ]
  },
  {
   "cell_type": "code",
   "execution_count": 5,
   "id": "87b7a074",
   "metadata": {},
   "outputs": [],
   "source": [
    "def get_init():\n",
    "    return [\"r1\", \"c1\"]\n",
    "\n",
    "def get_goal():\n",
    "    return [\"r4\", \"c4\"]\n",
    "\n",
    "def get_game_over_states():\n",
    "    return [\"r3\", \"c2\"]"
   ]
  },
  {
   "cell_type": "code",
   "execution_count": 6,
   "id": "7bb9a1de",
   "metadata": {},
   "outputs": [],
   "source": [
    "# get mutual exclusion for agent actions and for environment rows + cols (can be only in 1 row and 1 column at a time)\n",
    "mut_exc_agent_all, mut_exc_agent_comb = get_mutual_exclusion_actions(agent_actions)\n",
    "mut_exc_env_rows_all, mutual_excl_env_rows_comb = get_mutual_exclusion_actions(rows)\n",
    "mut_exc_env_cols_all, mutual_excl_env_cols_comb = get_mutual_exclusion_actions(cols)"
   ]
  },
  {
   "cell_type": "markdown",
   "id": "36fef613",
   "metadata": {},
   "source": [
    "### LTLf formula specification \n",
    "##### G(mutual exclusion agent actions) & ((initialization + G(mutual exclusion of where agent is allowed to be located by environment + environment transitions)) -> F(goal))"
   ]
  },
  {
   "cell_type": "code",
   "execution_count": 7,
   "id": "438390a9",
   "metadata": {},
   "outputs": [
    {
     "name": "stdout",
     "output_type": "stream",
     "text": [
      "without death state: \n",
      "G((l | r | u | d) & !(l & r) & !(l & u) & !(l & d) & !(r & u) & !(r & d) & !(u & d)) & ((r1 & c1 & G((r1 | r2 | r3 | r4 | r5 | r6) & !(r1 & r2) & !(r1 & r3) & !(r1 & r4) & !(r1 & r5) & !(r1 & r6) & !(r2 & r3) & !(r2 & r4) & !(r2 & r5) & !(r2 & r6) & !(r3 & r4) & !(r3 & r5) & !(r3 & r6) & !(r4 & r5) & !(r4 & r6) & !(r5 & r6)) & G((c1 | c2 | c3 | c4 | c5 | c6) & !(c1 & c2) & !(c1 & c3) & !(c1 & c4) & !(c1 & c5) & !(c1 & c6) & !(c2 & c3) & !(c2 & c4) & !(c2 & c5) & !(c2 & c6) & !(c3 & c4) & !(c3 & c5) & !(c3 & c6) & !(c4 & c5) & !(c4 & c6) & !(c5 & c6)) & G((c2 -> X(l -> c1)) & (c3 -> X(l -> (c2 | c1))) & (c4 -> X(l -> (c3 | c2))) & (c5 -> X(l -> (c4 | c3))) & (c6 -> X(l -> (c5 | c4))) & (c1 -> X(r -> (c2 | c3))) & (c2 -> X(r -> (c3 | c4))) & (c3 -> X(r -> (c4 | c5))) & (c4 -> X(r -> (c5 | c6))) & (c5 -> X(r -> c6)) & (r2 -> X(u -> r1)) & (r3 -> X(u -> (r2 | r1))) & (r4 -> X(u -> (r3 | r2))) & (r5 -> X(u -> (r4 | r3))) & (r6 -> X(u -> (r5 | r4))) & (r1 -> X(d -> (r2 | r3))) & (r2 -> X(d -> (r3 | r4))) & (r3 -> X(d -> (r4 | r5))) & (r4 -> X(d -> (r5 | r6))) & (r5 -> X(d -> r6)) & (c1 -> X(u -> c1)) & (c1 -> X(d -> c1)) & (c2 -> X(u -> c2)) & (c2 -> X(d -> c2)) & (c3 -> X(u -> c3)) & (c3 -> X(d -> c3)) & (c4 -> X(u -> c4)) & (c4 -> X(d -> c4)) & (c5 -> X(u -> c5)) & (c5 -> X(d -> c5)) & (c6 -> X(u -> c6)) & (c6 -> X(d -> c6)) & (r1 -> X(l -> r1)) & (r1 -> X(r -> r1)) & (r2 -> X(l -> r2)) & (r2 -> X(r -> r2)) & (r3 -> X(l -> r3)) & (r3 -> X(r -> r3)) & (r4 -> X(l -> r4)) & (r4 -> X(r -> r4)) & (r5 -> X(l -> r5)) & (r5 -> X(r -> r5)) & (r6 -> X(l -> r6)) & (r6 -> X(r -> r6)))) -> F(r4 & c4))\n",
      "\n",
      "with death state: \n",
      "G((l | r | u | d) & !(l & r) & !(l & u) & !(l & d) & !(r & u) & !(r & d) & !(u & d)) & ((r1 & c1 & G((r1 | r2 | r3 | r4 | r5 | r6) & !(r1 & r2) & !(r1 & r3) & !(r1 & r4) & !(r1 & r5) & !(r1 & r6) & !(r2 & r3) & !(r2 & r4) & !(r2 & r5) & !(r2 & r6) & !(r3 & r4) & !(r3 & r5) & !(r3 & r6) & !(r4 & r5) & !(r4 & r6) & !(r5 & r6)) & G((c1 | c2 | c3 | c4 | c5 | c6) & !(c1 & c2) & !(c1 & c3) & !(c1 & c4) & !(c1 & c5) & !(c1 & c6) & !(c2 & c3) & !(c2 & c4) & !(c2 & c5) & !(c2 & c6) & !(c3 & c4) & !(c3 & c5) & !(c3 & c6) & !(c4 & c5) & !(c4 & c6) & !(c5 & c6)) & G((c2 -> X(l -> c1)) & (c3 -> X(l -> (c2 | c1))) & (c4 -> X(l -> (c3 | c2))) & (c5 -> X(l -> (c4 | c3))) & (c6 -> X(l -> (c5 | c4))) & (c1 -> X(r -> (c2 | c3))) & (c2 -> X(r -> (c3 | c4))) & (c3 -> X(r -> (c4 | c5))) & (c4 -> X(r -> (c5 | c6))) & (c5 -> X(r -> c6)) & (r2 -> X(u -> r1)) & (r3 -> X(u -> (r2 | r1))) & (r4 -> X(u -> (r3 | r2))) & (r5 -> X(u -> (r4 | r3))) & (r6 -> X(u -> (r5 | r4))) & (r1 -> X(d -> (r2 | r3))) & (r2 -> X(d -> (r3 | r4))) & (r3 -> X(d -> (r4 | r5))) & (r4 -> X(d -> (r5 | r6))) & (r5 -> X(d -> r6)) & (c1 -> X(u -> c1)) & (c1 -> X(d -> c1)) & (c2 -> X(u -> c2)) & (c2 -> X(d -> c2)) & (c3 -> X(u -> c3)) & (c3 -> X(d -> c3)) & (c4 -> X(u -> c4)) & (c4 -> X(d -> c4)) & (c5 -> X(u -> c5)) & (c5 -> X(d -> c5)) & (c6 -> X(u -> c6)) & (c6 -> X(d -> c6)) & (r1 -> X(l -> r1)) & (r1 -> X(r -> r1)) & (r2 -> X(l -> r2)) & (r2 -> X(r -> r2)) & (r3 -> X(l -> r3)) & (r3 -> X(r -> r3)) & (r4 -> X(l -> r4)) & (r4 -> X(r -> r4)) & (r5 -> X(l -> r5)) & (r5 -> X(r -> r5)) & (r6 -> X(l -> r6)) & (r6 -> X(r -> r6)))) -> (F(r4 & c4) & G(!(r3 & c2))))\n"
     ]
    }
   ],
   "source": [
    "print(\"without death state: \")\n",
    "print(\"G((\", mut_exc_agent_all, \") & \", mut_exc_agent_comb, \") & ((\", \" & \".join(get_init()), \" & G((\", mut_exc_env_rows_all, \") & \", mutual_excl_env_rows_comb, \") & G((\", mut_exc_env_cols_all, \") & \", mutual_excl_env_cols_comb, \") & G(\", \" & \".join(env_transitions), \")) -> F(\", \" & \".join(get_goal()),\"))\", sep='')\n",
    "print()\n",
    "print(\"with death state: \")\n",
    "print(\"G((\", mut_exc_agent_all, \") & \", mut_exc_agent_comb, \") & ((\", \" & \".join(get_init()), \" & G((\", mut_exc_env_rows_all, \") & \", mutual_excl_env_rows_comb, \") & G((\", mut_exc_env_cols_all, \") & \", mutual_excl_env_cols_comb, \") & G(\", \" & \".join(env_transitions), \")) -> (F(\", \" & \".join(get_goal()),\") & G(!(\", \" & \".join(get_game_over_states()),\"))))\", sep='')"
   ]
  },
  {
   "cell_type": "code",
   "execution_count": 8,
   "id": "6fb7ee78",
   "metadata": {},
   "outputs": [
    {
     "name": "stdout",
     "output_type": "stream",
     "text": [
      "without death state (definitive formula, discussed with Fabio and Yves, 8-5-2024): \n",
      "G((l | r | u | d) & !(l & r) & !(l & u) & !(l & d) & !(r & u) & !(r & d) & !(u & d)) & ((r1 & c1 & G((r1 | r2 | r3 | r4 | r5 | r6) & !(r1 & r2) & !(r1 & r3) & !(r1 & r4) & !(r1 & r5) & !(r1 & r6) & !(r2 & r3) & !(r2 & r4) & !(r2 & r5) & !(r2 & r6) & !(r3 & r4) & !(r3 & r5) & !(r3 & r6) & !(r4 & r5) & !(r4 & r6) & !(r5 & r6)) & G((c1 | c2 | c3 | c4 | c5 | c6) & !(c1 & c2) & !(c1 & c3) & !(c1 & c4) & !(c1 & c5) & !(c1 & c6) & !(c2 & c3) & !(c2 & c4) & !(c2 & c5) & !(c2 & c6) & !(c3 & c4) & !(c3 & c5) & !(c3 & c6) & !(c4 & c5) & !(c4 & c6) & !(c5 & c6)) & G((c2 -> X(l -> c1)) & (c3 -> X(l -> (c2 | c1))) & (c4 -> X(l -> (c3 | c2))) & (c5 -> X(l -> (c4 | c3))) & (c6 -> X(l -> (c5 | c4))) & (c1 -> X(r -> (c2 | c3))) & (c2 -> X(r -> (c3 | c4))) & (c3 -> X(r -> (c4 | c5))) & (c4 -> X(r -> (c5 | c6))) & (c5 -> X(r -> c6)) & (r2 -> X(u -> r1)) & (r3 -> X(u -> (r2 | r1))) & (r4 -> X(u -> (r3 | r2))) & (r5 -> X(u -> (r4 | r3))) & (r6 -> X(u -> (r5 | r4))) & (r1 -> X(d -> (r2 | r3))) & (r2 -> X(d -> (r3 | r4))) & (r3 -> X(d -> (r4 | r5))) & (r4 -> X(d -> (r5 | r6))) & (r5 -> X(d -> r6)) & (c1 -> X(u -> c1)) & (c1 -> X(d -> c1)) & (c2 -> X(u -> c2)) & (c2 -> X(d -> c2)) & (c3 -> X(u -> c3)) & (c3 -> X(d -> c3)) & (c4 -> X(u -> c4)) & (c4 -> X(d -> c4)) & (c5 -> X(u -> c5)) & (c5 -> X(d -> c5)) & (c6 -> X(u -> c6)) & (c6 -> X(d -> c6)) & (r1 -> X(l -> r1)) & (r1 -> X(r -> r1)) & (r2 -> X(l -> r2)) & (r2 -> X(r -> r2)) & (r3 -> X(l -> r3)) & (r3 -> X(r -> r3)) & (r4 -> X(l -> r4)) & (r4 -> X(r -> r4)) & (r5 -> X(l -> r5)) & (r5 -> X(r -> r5)) & (r6 -> X(l -> r6)) & (r6 -> X(r -> r6)))) -> F(r4 & c4))\n",
      "\n"
     ]
    }
   ],
   "source": [
    "print(\"without death state (definitive formula, discussed with Fabio and Yves, 8-5-2024): \")\n",
    "print(\"G((\", mut_exc_agent_all, \") & \", mut_exc_agent_comb, \") & ((\", \" & \".join(get_init()), \" & G((\", mut_exc_env_rows_all, \") & \", mutual_excl_env_rows_comb, \") & G((\", mut_exc_env_cols_all, \") & \", mutual_excl_env_cols_comb, \") & G(\", \" & \".join(env_transitions), \")) -> F(\", \" & \".join(get_goal()),\"))\", sep='')\n",
    "print()"
   ]
  },
  {
   "cell_type": "markdown",
   "id": "a704fdf9-3f25-4024-a46a-484e9229892e",
   "metadata": {},
   "source": [
    "## Below are outputs in separate parts (init, agent, environment, and goal)"
   ]
  },
  {
   "cell_type": "code",
   "execution_count": 23,
   "id": "ac78794d-e5db-4f6f-a19a-935417bc8a4c",
   "metadata": {},
   "outputs": [
    {
     "name": "stdout",
     "output_type": "stream",
     "text": [
      "(r1 & c1)\n"
     ]
    }
   ],
   "source": [
    "# init\n",
    "print(\"(\", \" & \".join(get_init()), \")\", sep='')"
   ]
  },
  {
   "cell_type": "code",
   "execution_count": 24,
   "id": "ee2439b8-0ab5-48ce-a822-dc890ad8d0f8",
   "metadata": {},
   "outputs": [
    {
     "name": "stdout",
     "output_type": "stream",
     "text": [
      "((l | r | u | d) & !(l & r) & !(l & u) & !(l & d) & !(r & u) & !(r & d) & !(u & d))\n"
     ]
    }
   ],
   "source": [
    "# agent\n",
    "print(\"((\", mut_exc_agent_all, \") & \", mut_exc_agent_comb, \")\", sep='')"
   ]
  },
  {
   "cell_type": "code",
   "execution_count": 25,
   "id": "6953e086-5918-4032-9e62-7defa19cf4d3",
   "metadata": {},
   "outputs": [
    {
     "name": "stdout",
     "output_type": "stream",
     "text": [
      "(((r1 | r2 | r3 | r4 | r5 | r6) & !(r1 & r2) & !(r1 & r3) & !(r1 & r4) & !(r1 & r5) & !(r1 & r6) & !(r2 & r3) & !(r2 & r4) & !(r2 & r5) & !(r2 & r6) & !(r3 & r4) & !(r3 & r5) & !(r3 & r6) & !(r4 & r5) & !(r4 & r6) & !(r5 & r6)) & ((c1 | c2 | c3 | c4 | c5 | c6) & !(c1 & c2) & !(c1 & c3) & !(c1 & c4) & !(c1 & c5) & !(c1 & c6) & !(c2 & c3) & !(c2 & c4) & !(c2 & c5) & !(c2 & c6) & !(c3 & c4) & !(c3 & c5) & !(c3 & c6) & !(c4 & c5) & !(c4 & c6) & !(c5 & c6)) & ((c2 -> X(l -> c1)) & (c3 -> X(l -> (c2 | c1))) & (c4 -> X(l -> (c3 | c2))) & (c5 -> X(l -> (c4 | c3))) & (c6 -> X(l -> (c5 | c4))) & (c1 -> X(r -> (c2 | c3))) & (c2 -> X(r -> (c3 | c4))) & (c3 -> X(r -> (c4 | c5))) & (c4 -> X(r -> (c5 | c6))) & (c5 -> X(r -> c6)) & (r2 -> X(u -> r1)) & (r3 -> X(u -> (r2 | r1))) & (r4 -> X(u -> (r3 | r2))) & (r5 -> X(u -> (r4 | r3))) & (r6 -> X(u -> (r5 | r4))) & (r1 -> X(d -> (r2 | r3))) & (r2 -> X(d -> (r3 | r4))) & (r3 -> X(d -> (r4 | r5))) & (r4 -> X(d -> (r5 | r6))) & (r5 -> X(d -> r6)) & (c1 -> X(u -> c1)) & (c1 -> X(d -> c1)) & (c2 -> X(u -> c2)) & (c2 -> X(d -> c2)) & (c3 -> X(u -> c3)) & (c3 -> X(d -> c3)) & (c4 -> X(u -> c4)) & (c4 -> X(d -> c4)) & (c5 -> X(u -> c5)) & (c5 -> X(d -> c5)) & (c6 -> X(u -> c6)) & (c6 -> X(d -> c6)) & (r1 -> X(l -> r1)) & (r1 -> X(r -> r1)) & (r2 -> X(l -> r2)) & (r2 -> X(r -> r2)) & (r3 -> X(l -> r3)) & (r3 -> X(r -> r3)) & (r4 -> X(l -> r4)) & (r4 -> X(r -> r4)) & (r5 -> X(l -> r5)) & (r5 -> X(r -> r5)) & (r6 -> X(l -> r6)) & (r6 -> X(r -> r6))))\n"
     ]
    }
   ],
   "source": [
    "# environment\n",
    "print(\"(((\", mut_exc_env_rows_all, \") & \", mutual_excl_env_rows_comb, \") & ((\", mut_exc_env_cols_all, \") & \", mutual_excl_env_cols_comb, \") & (\", \" & \".join(env_transitions), \"))\", sep='')"
   ]
  },
  {
   "cell_type": "code",
   "execution_count": 26,
   "id": "95a0045e-053c-4174-95a6-16901323caa9",
   "metadata": {},
   "outputs": [
    {
     "name": "stdout",
     "output_type": "stream",
     "text": [
      "(G((X(c1 | !c1)) -> ((l -> !(c1)) & (r -> !(c6)) & (u -> !(r1)) & (d -> !(r6)))))\n"
     ]
    }
   ],
   "source": [
    "# preconditions agent actions\n",
    "print(\"(G((X(\", cols[0], \" | !\", cols[0] , \")) -> (\",\" & \".join(get_agent_preconditions()),\")))\", sep=\"\")"
   ]
  },
  {
   "cell_type": "code",
   "execution_count": 27,
   "id": "dd57bd3c-4dc1-4afd-bf75-d2bb9c933bc2",
   "metadata": {},
   "outputs": [
    {
     "name": "stdout",
     "output_type": "stream",
     "text": [
      "F(r4 & c4)\n"
     ]
    }
   ],
   "source": [
    "# goal\n",
    "print(\"F(\", \" & \".join(get_goal()),\")\", sep='')"
   ]
  },
  {
   "cell_type": "code",
   "execution_count": null,
   "id": "c63111be-1e2f-4dec-9328-b259e4874da2",
   "metadata": {},
   "outputs": [],
   "source": []
  }
 ],
 "metadata": {
  "kernelspec": {
   "display_name": "Python 3 (ipykernel)",
   "language": "python",
   "name": "python3"
  },
  "language_info": {
   "codemirror_mode": {
    "name": "ipython",
    "version": 3
   },
   "file_extension": ".py",
   "mimetype": "text/x-python",
   "name": "python",
   "nbconvert_exporter": "python",
   "pygments_lexer": "ipython3",
   "version": "3.11.7"
  }
 },
 "nbformat": 4,
 "nbformat_minor": 5
}
