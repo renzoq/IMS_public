{
 "cells": [
  {
   "cell_type": "markdown",
   "id": "fe91f362",
   "metadata": {},
   "source": [
    "### Generation of LTLf formula + partition file for triangle-tireworld domain (non-deterministic). Amount of layers can be altered"
   ]
  },
  {
   "cell_type": "code",
   "execution_count": 1,
   "id": "072aef97",
   "metadata": {},
   "outputs": [
    {
     "name": "stdout",
     "output_type": "stream",
     "text": [
      "layer:  ['11']\n",
      "layer:  ['12', '21']\n",
      "layer:  ['13', '22', '31']\n"
     ]
    }
   ],
   "source": [
    "# Give number of layers as input\n",
    "number_of_layers = 3\n",
    "\n",
    "def generate_states(layers):\n",
    "    all_states = []\n",
    "    \n",
    "    # Generate states for each layer\n",
    "    for layer in range(1, layers + 1):\n",
    "        current_layer_states = [f'{i}{layer-i+1}' for i in range(1, layer + 1)]\n",
    "        all_states.append(current_layer_states)    \n",
    "    return all_states\n",
    "\n",
    "def print_and_return_states(all_states):\n",
    "    node_names = []\n",
    "    for layer in all_states:\n",
    "        print(\"layer: \", layer)\n",
    "        for location in layer:\n",
    "            node_names.append(location)\n",
    "    return node_names\n",
    "\n",
    "states = generate_states(number_of_layers)\n",
    "node_names = print_and_return_states(states)"
   ]
  },
  {
   "cell_type": "code",
   "execution_count": 2,
   "id": "5805ab15",
   "metadata": {},
   "outputs": [],
   "source": [
    "def get_change_tire_actions(nodes):\n",
    "    action_list = []\n",
    "    for node in nodes:\n",
    "        action_list.append((\"changetire_\"+ node))\n",
    "    return action_list\n",
    "\n",
    "def get_spare_tire_states(nodes):\n",
    "    action_list = []\n",
    "    for node in nodes:\n",
    "        action_list.append((\"sparein_\"+ node))\n",
    "    return action_list\n",
    "\n",
    "def get_vehicle_at_states(nodes):\n",
    "    action_list = []\n",
    "    for node in nodes:\n",
    "        action_list.append((\"vehicleat_\"+ node))\n",
    "    return action_list\n",
    "\n",
    "def get_paths_and_movecar(all_states):\n",
    "    paths = []\n",
    "    move_car_list = []\n",
    "    \n",
    "    for i, layer in enumerate(all_states):\n",
    "        for j, location in enumerate(layer):\n",
    "            # try to add path to right node\n",
    "            if j+1< len(layer):\n",
    "                paths.append(\"road_\"+str(all_states[i][j])+\"_\"+str(all_states[i][j+1]))\n",
    "#                 move_car_list.append(\"movecar_\"+str(all_states[i][j])+\"_\"+str(all_states[i][j+1]))\n",
    "            # try to add path to left node\n",
    "            if j != 0:\n",
    "                paths.append(\"road_\"+str(all_states[i][j])+\"_\"+str(all_states[i][j-1]))\n",
    "#                 move_car_list.append(\"movecar_\"+str(all_states[i][j])+\"_\"+str(all_states[i][j-1]))\n",
    "            # try to add path to top right node\n",
    "            if i != 0:\n",
    "                try:\n",
    "                    paths.append(\"road_\"+str(all_states[i][j])+\"_\"+str(all_states[i-1][j]))\n",
    "#                     move_car_list.append(\"movecar_\"+str(all_states[i][j])+\"_\"+str(all_states[i-1][j]))\n",
    "                except: pass\n",
    "                if j != 0:\n",
    "                    # try to add path to top left node\n",
    "                    try:\n",
    "                        paths.append(\"road_\"+str(all_states[i][j])+\"_\"+str(all_states[i-1][j-1]))\n",
    "#                         move_car_list.append(\"movecar_\"+str(all_states[i][j])+\"_\"+str(all_states[i-1][j-1]))\n",
    "                    except: pass\n",
    "            # try to add path to bottom right node\n",
    "            if i != len(all_states):\n",
    "                try:\n",
    "                    paths.append(\"road_\"+str(all_states[i][j])+\"_\"+str(all_states[i+1][j+1]))\n",
    "#                     move_car_list.append(\"movecar_\"+str(all_states[i][j])+\"_\"+str(all_states[i+1][j+1]))\n",
    "                except: pass\n",
    "            # try to add path to bottom left node\n",
    "            try:\n",
    "                paths.append(\"road_\"+str(all_states[i][j])+\"_\"+str(all_states[i+1][j]))\n",
    "#                 move_car_list.append(\"movecar_\"+str(all_states[i][j])+\"_\"+str(all_states[i+1][j]))\n",
    "            except: pass\n",
    "            \n",
    "    # IF ANY ROADS NEED TO BE REMOVED, CAN BE DONE IN LINE BELOW. Moves allowed by agent are added dynamically\n",
    "    roads_to_remove = []\n",
    "    \n",
    "    paths = [road for road in paths if road not in roads_to_remove]\n",
    "    \n",
    "    for path in paths:\n",
    "        action, from_l, to_l = path.split('_')\n",
    "        move_car_list.append(\"movecar_\"+from_l+\"_\"+to_l)\n",
    "            \n",
    "    return paths, move_car_list"
   ]
  },
  {
   "cell_type": "code",
   "execution_count": 3,
   "id": "2d991a1e",
   "metadata": {},
   "outputs": [
    {
     "name": "stdout",
     "output_type": "stream",
     "text": [
      "environment locations:  ['11', '12', '21', '13', '22', '31']\n",
      "\n",
      "change tire actions:  ['changetire_11', 'changetire_12', 'changetire_21', 'changetire_13', 'changetire_22', 'changetire_31']\n",
      "\n",
      "spare tires:  ['sparein_11', 'sparein_12', 'sparein_21', 'sparein_13', 'sparein_22', 'sparein_31']\n",
      "\n",
      "vehicle at:  ['vehicleat_11', 'vehicleat_12', 'vehicleat_21', 'vehicleat_13', 'vehicleat_22', 'vehicleat_31']\n",
      "\n",
      "roads:  ['road_11_21', 'road_11_12', 'road_12_21', 'road_12_11', 'road_12_22', 'road_12_13', 'road_21_12', 'road_21_11', 'road_21_31', 'road_21_22', 'road_13_22', 'road_13_12', 'road_22_31', 'road_22_13', 'road_22_21', 'road_22_12', 'road_31_22', 'road_31_21']\n",
      "\n",
      "move car options:  ['movecar_11_21', 'movecar_11_12', 'movecar_12_21', 'movecar_12_11', 'movecar_12_22', 'movecar_12_13', 'movecar_21_12', 'movecar_21_11', 'movecar_21_31', 'movecar_21_22', 'movecar_13_22', 'movecar_13_12', 'movecar_22_31', 'movecar_22_13', 'movecar_22_21', 'movecar_22_12', 'movecar_31_22', 'movecar_31_21']\n",
      "\n",
      "flattire:  flattire\n",
      "\n"
     ]
    }
   ],
   "source": [
    "print(\"environment locations: \", node_names)\n",
    "print()\n",
    "print(\"change tire actions: \", get_change_tire_actions(node_names))\n",
    "print()\n",
    "print(\"spare tires: \", get_spare_tire_states(node_names))\n",
    "print()\n",
    "print(\"vehicle at: \", get_vehicle_at_states(node_names))\n",
    "print()\n",
    "paths, move_car_list = get_paths_and_movecar(states)\n",
    "print(\"roads: \", paths)\n",
    "print()\n",
    "print(\"move car options: \", move_car_list)\n",
    "print()\n",
    "flattire = \"flattire\"\n",
    "print(\"flattire: \", flattire)\n",
    "print()"
   ]
  },
  {
   "cell_type": "code",
   "execution_count": 4,
   "id": "b6acd1bf",
   "metadata": {},
   "outputs": [],
   "source": [
    "def get_mutual_exclusion_agent_actions(agent_actions):\n",
    "    all_actions_or = \" | \".join(agent_actions)\n",
    "    action_combinations = []\n",
    "    \n",
    "    for i, action in enumerate(agent_actions):\n",
    "        for j in range(i+1, len(agent_actions)):\n",
    "            action_combinations.append(\"!(\" + agent_actions[i] + \" & \" + agent_actions[j] + \")\")\n",
    "    \n",
    "    action_comb_str = \" & \".join(action_combinations)\n",
    "    \n",
    "    return all_actions_or, action_comb_str\n",
    "\n",
    "def get_agent_preconditions():\n",
    "    prec_list = []\n",
    "    # preconditions for 'movecar'\n",
    "    for move in move_car_list:\n",
    "        action, from_l, to_l = move.split('_')\n",
    "        prec_list.append(\"(!(vehicleat_\" + from_l + \" & road_\" + from_l + \"_\" + to_l + \" & !flattire) -> X(!\" + move + \"))\")\n",
    "        \n",
    "    # TODO: check if its not necessary to have a flat tire before changing it\n",
    "    # preconditions for 'changetire'\n",
    "    for change_act in get_change_tire_actions(node_names):\n",
    "        action, from_l = change_act.split('_')\n",
    "        prec_list.append(\"(!(sparein_\" + from_l + \" & vehicleat_\" + from_l + \" & flattire) -> X(!\" + change_act + \"))\")\n",
    "    \n",
    "    return prec_list"
   ]
  },
  {
   "cell_type": "code",
   "execution_count": 5,
   "id": "430fc4fa",
   "metadata": {},
   "outputs": [
    {
     "data": {
      "text/plain": [
       "['(!(vehicleat_11 & road_11_21 & !flattire) -> X(!movecar_11_21))',\n",
       " '(!(vehicleat_11 & road_11_12 & !flattire) -> X(!movecar_11_12))',\n",
       " '(!(vehicleat_12 & road_12_21 & !flattire) -> X(!movecar_12_21))',\n",
       " '(!(vehicleat_12 & road_12_11 & !flattire) -> X(!movecar_12_11))',\n",
       " '(!(vehicleat_12 & road_12_22 & !flattire) -> X(!movecar_12_22))',\n",
       " '(!(vehicleat_12 & road_12_13 & !flattire) -> X(!movecar_12_13))',\n",
       " '(!(vehicleat_21 & road_21_12 & !flattire) -> X(!movecar_21_12))',\n",
       " '(!(vehicleat_21 & road_21_11 & !flattire) -> X(!movecar_21_11))',\n",
       " '(!(vehicleat_21 & road_21_31 & !flattire) -> X(!movecar_21_31))',\n",
       " '(!(vehicleat_21 & road_21_22 & !flattire) -> X(!movecar_21_22))',\n",
       " '(!(vehicleat_13 & road_13_22 & !flattire) -> X(!movecar_13_22))',\n",
       " '(!(vehicleat_13 & road_13_12 & !flattire) -> X(!movecar_13_12))',\n",
       " '(!(vehicleat_22 & road_22_31 & !flattire) -> X(!movecar_22_31))',\n",
       " '(!(vehicleat_22 & road_22_13 & !flattire) -> X(!movecar_22_13))',\n",
       " '(!(vehicleat_22 & road_22_21 & !flattire) -> X(!movecar_22_21))',\n",
       " '(!(vehicleat_22 & road_22_12 & !flattire) -> X(!movecar_22_12))',\n",
       " '(!(vehicleat_31 & road_31_22 & !flattire) -> X(!movecar_31_22))',\n",
       " '(!(vehicleat_31 & road_31_21 & !flattire) -> X(!movecar_31_21))',\n",
       " '(!(sparein_11 & vehicleat_11 & flattire) -> X(!changetire_11))',\n",
       " '(!(sparein_12 & vehicleat_12 & flattire) -> X(!changetire_12))',\n",
       " '(!(sparein_21 & vehicleat_21 & flattire) -> X(!changetire_21))',\n",
       " '(!(sparein_13 & vehicleat_13 & flattire) -> X(!changetire_13))',\n",
       " '(!(sparein_22 & vehicleat_22 & flattire) -> X(!changetire_22))',\n",
       " '(!(sparein_31 & vehicleat_31 & flattire) -> X(!changetire_31))']"
      ]
     },
     "execution_count": 5,
     "metadata": {},
     "output_type": "execute_result"
    }
   ],
   "source": [
    "get_agent_preconditions()"
   ]
  },
  {
   "cell_type": "code",
   "execution_count": 6,
   "id": "6e2d26fc",
   "metadata": {},
   "outputs": [],
   "source": [
    "def get_environment_transitions():\n",
    "    effect_list = []\n",
    "    # effect 'movecar'\n",
    "    for move in move_car_list:\n",
    "        action, from_l, to_l = move.split('_')\n",
    "        effect_list.append(\"(vehicleat_\" + from_l + \" -> X(\" + move + \" -> (vehicleat_\" + to_l + \" & (flattire | !flattire))))\")\n",
    "        \n",
    "    # effect 'changetire'\n",
    "    for change_act in get_change_tire_actions(node_names):\n",
    "        action, from_l = change_act.split('_')\n",
    "        effect_list.append(\"(sparein_\" + from_l + \" & vehicleat_\" + from_l + \" -> X(\" + change_act  + \" -> (!sparein_\" + from_l + \" & !flattire & vehicleat_\" + from_l+ \")))\")\n",
    "    \n",
    "    return effect_list"
   ]
  },
  {
   "cell_type": "code",
   "execution_count": 7,
   "id": "5ffae25c",
   "metadata": {},
   "outputs": [
    {
     "data": {
      "text/plain": [
       "['(vehicleat_11 -> X(movecar_11_21 -> (vehicleat_21 & (flattire | !flattire))))',\n",
       " '(vehicleat_11 -> X(movecar_11_12 -> (vehicleat_12 & (flattire | !flattire))))',\n",
       " '(vehicleat_12 -> X(movecar_12_21 -> (vehicleat_21 & (flattire | !flattire))))',\n",
       " '(vehicleat_12 -> X(movecar_12_11 -> (vehicleat_11 & (flattire | !flattire))))',\n",
       " '(vehicleat_12 -> X(movecar_12_22 -> (vehicleat_22 & (flattire | !flattire))))',\n",
       " '(vehicleat_12 -> X(movecar_12_13 -> (vehicleat_13 & (flattire | !flattire))))',\n",
       " '(vehicleat_21 -> X(movecar_21_12 -> (vehicleat_12 & (flattire | !flattire))))',\n",
       " '(vehicleat_21 -> X(movecar_21_11 -> (vehicleat_11 & (flattire | !flattire))))',\n",
       " '(vehicleat_21 -> X(movecar_21_31 -> (vehicleat_31 & (flattire | !flattire))))',\n",
       " '(vehicleat_21 -> X(movecar_21_22 -> (vehicleat_22 & (flattire | !flattire))))',\n",
       " '(vehicleat_13 -> X(movecar_13_22 -> (vehicleat_22 & (flattire | !flattire))))',\n",
       " '(vehicleat_13 -> X(movecar_13_12 -> (vehicleat_12 & (flattire | !flattire))))',\n",
       " '(vehicleat_22 -> X(movecar_22_31 -> (vehicleat_31 & (flattire | !flattire))))',\n",
       " '(vehicleat_22 -> X(movecar_22_13 -> (vehicleat_13 & (flattire | !flattire))))',\n",
       " '(vehicleat_22 -> X(movecar_22_21 -> (vehicleat_21 & (flattire | !flattire))))',\n",
       " '(vehicleat_22 -> X(movecar_22_12 -> (vehicleat_12 & (flattire | !flattire))))',\n",
       " '(vehicleat_31 -> X(movecar_31_22 -> (vehicleat_22 & (flattire | !flattire))))',\n",
       " '(vehicleat_31 -> X(movecar_31_21 -> (vehicleat_21 & (flattire | !flattire))))',\n",
       " '(sparein_11 & vehicleat_11 -> X(changetire_11 -> (!sparein_11 & !flattire & vehicleat_11)))',\n",
       " '(sparein_12 & vehicleat_12 -> X(changetire_12 -> (!sparein_12 & !flattire & vehicleat_12)))',\n",
       " '(sparein_21 & vehicleat_21 -> X(changetire_21 -> (!sparein_21 & !flattire & vehicleat_21)))',\n",
       " '(sparein_13 & vehicleat_13 -> X(changetire_13 -> (!sparein_13 & !flattire & vehicleat_13)))',\n",
       " '(sparein_22 & vehicleat_22 -> X(changetire_22 -> (!sparein_22 & !flattire & vehicleat_22)))',\n",
       " '(sparein_31 & vehicleat_31 -> X(changetire_31 -> (!sparein_31 & !flattire & vehicleat_31)))']"
      ]
     },
     "execution_count": 7,
     "metadata": {},
     "output_type": "execute_result"
    }
   ],
   "source": [
    "get_environment_transitions()"
   ]
  },
  {
   "cell_type": "code",
   "execution_count": 8,
   "id": "a97c71cc",
   "metadata": {},
   "outputs": [],
   "source": [
    "# use this for specifying which fluents never change during a run (like roads)\n",
    "def get_consistent_fluents(fluents):\n",
    "    return \"G(\" + \" & \".join(fluents) + \")\""
   ]
  },
  {
   "cell_type": "code",
   "execution_count": 9,
   "id": "4080c3c4",
   "metadata": {},
   "outputs": [],
   "source": [
    "def get_next_spare_status():\n",
    "    sparetires = get_spare_tire_states(node_names)\n",
    "    sparenext = []\n",
    "    \n",
    "    for spare in sparetires:\n",
    "        action, location = spare.split('_')\n",
    "        sparenext.append(\"(!\" + spare + \" -> X(!\" + spare + \"))\")\n",
    "        sparenext.append(\"((\" + spare + \" & !changetire_\" + location + \") -> X(\" + spare + \"))\")\n",
    "    \n",
    "    return \"G(\" + \" & \".join(sparenext) + \")\"\n",
    "\n",
    "def get_agent_environment_actions():\n",
    "    paths, move_car_list = get_paths_and_movecar(states)\n",
    "    \n",
    "    environment_actions = get_vehicle_at_states(node_names) + get_spare_tire_states(node_names) + paths\n",
    "    agent_actions = move_car_list + get_change_tire_actions(node_names)\n",
    "    \n",
    "    return environment_actions, agent_actions"
   ]
  },
  {
   "cell_type": "markdown",
   "id": "4cee07b9",
   "metadata": {},
   "source": [
    "### the goal and initialization have to be set by hand (these are hardcoded):"
   ]
  },
  {
   "cell_type": "code",
   "execution_count": 10,
   "id": "a81b8aef",
   "metadata": {},
   "outputs": [],
   "source": [
    "# this has to be set by hand\n",
    "def get_goal():\n",
    "    return \"F(vehicleat_21)\"\n",
    "\n",
    "# this has to be set by hand\n",
    "def get_initialization():\n",
    "    init_list = [\"!flattire\", \"vehicleat_11\", \"sparein_12\", \"sparein_11\", \"sparein_21\"]\n",
    "    \n",
    "    return \" & \".join(init_list)"
   ]
  },
  {
   "cell_type": "markdown",
   "id": "e982c860",
   "metadata": {},
   "source": [
    "### code block below retrieves the mutual exclusion of agent actions and specific environment fluents. Also agent preconditions are retrieved:"
   ]
  },
  {
   "cell_type": "code",
   "execution_count": 11,
   "id": "7ba48a87",
   "metadata": {},
   "outputs": [],
   "source": [
    "# 'mutual_excl_all' contains the or-statement between all actions\n",
    "# 'mutual_excl_comb' contains the negation of all possible agent action combinations\n",
    "env_act_list, agent_act_list = get_agent_environment_actions()\n",
    "\n",
    "mutual_excl_all, mutual_excl_comb = get_mutual_exclusion_agent_actions(agent_act_list)\n",
    "mutual_excl_all_env, mutual_excl_comb_env = get_mutual_exclusion_agent_actions(get_vehicle_at_states(node_names))\n",
    "\n",
    "agent_prec_list = get_agent_preconditions()"
   ]
  },
  {
   "cell_type": "markdown",
   "id": "e6d3d78f",
   "metadata": {},
   "source": [
    "### partition file (copy and paste in '.part'-file)"
   ]
  },
  {
   "cell_type": "code",
   "execution_count": 12,
   "id": "218afd01",
   "metadata": {},
   "outputs": [
    {
     "name": "stdout",
     "output_type": "stream",
     "text": [
      ".inputs: vehicleat_11 vehicleat_12 vehicleat_21 vehicleat_13 vehicleat_22 vehicleat_31 sparein_11 sparein_12 sparein_21 sparein_13 sparein_22 sparein_31 road_11_21 road_11_12 road_12_21 road_12_11 road_12_22 road_12_13 road_21_12 road_21_11 road_21_31 road_21_22 road_13_22 road_13_12 road_22_31 road_22_13 road_22_21 road_22_12 road_31_22 road_31_21 flattire\n",
      ".outputs: movecar_11_21 movecar_11_12 movecar_12_21 movecar_12_11 movecar_12_22 movecar_12_13 movecar_21_12 movecar_21_11 movecar_21_31 movecar_21_22 movecar_13_22 movecar_13_12 movecar_22_31 movecar_22_13 movecar_22_21 movecar_22_12 movecar_31_22 movecar_31_21 changetire_11 changetire_12 changetire_21 changetire_13 changetire_22 changetire_31\n"
     ]
    }
   ],
   "source": [
    "# retrieve all agent + environment actions in separate lists\n",
    "\n",
    "# print out partition file\n",
    "print(\".inputs: \", \" \".join(env_act_list), \" flattire\", sep='')\n",
    "print(\".outputs: \", \" \".join(agent_act_list), sep='')"
   ]
  },
  {
   "cell_type": "markdown",
   "id": "3af0d9ef",
   "metadata": {},
   "source": [
    "### LTLf formula (copy and paste in '.ltlf'-file):"
   ]
  },
  {
   "cell_type": "code",
   "execution_count": 13,
   "id": "43503933",
   "metadata": {},
   "outputs": [
    {
     "name": "stdout",
     "output_type": "stream",
     "text": [
      "(!flattire & vehicleat_11 & sparein_12 & sparein_11 & sparein_21)\n"
     ]
    }
   ],
   "source": [
    "# init\n",
    "print(\"(\", get_initialization(), \")\", sep='')"
   ]
  },
  {
   "cell_type": "code",
   "execution_count": 14,
   "id": "e3a9c1fa-85bb-4186-98f0-dfc1b53de564",
   "metadata": {},
   "outputs": [
    {
     "name": "stdout",
     "output_type": "stream",
     "text": [
      "((movecar_11_21 | movecar_11_12 | movecar_12_21 | movecar_12_11 | movecar_12_22 | movecar_12_13 | movecar_21_12 | movecar_21_11 | movecar_21_31 | movecar_21_22 | movecar_13_22 | movecar_13_12 | movecar_22_31 | movecar_22_13 | movecar_22_21 | movecar_22_12 | movecar_31_22 | movecar_31_21 | changetire_11 | changetire_12 | changetire_21 | changetire_13 | changetire_22 | changetire_31) & !(movecar_11_21 & movecar_11_12) & !(movecar_11_21 & movecar_12_21) & !(movecar_11_21 & movecar_12_11) & !(movecar_11_21 & movecar_12_22) & !(movecar_11_21 & movecar_12_13) & !(movecar_11_21 & movecar_21_12) & !(movecar_11_21 & movecar_21_11) & !(movecar_11_21 & movecar_21_31) & !(movecar_11_21 & movecar_21_22) & !(movecar_11_21 & movecar_13_22) & !(movecar_11_21 & movecar_13_12) & !(movecar_11_21 & movecar_22_31) & !(movecar_11_21 & movecar_22_13) & !(movecar_11_21 & movecar_22_21) & !(movecar_11_21 & movecar_22_12) & !(movecar_11_21 & movecar_31_22) & !(movecar_11_21 & movecar_31_21) & !(movecar_11_21 & changetire_11) & !(movecar_11_21 & changetire_12) & !(movecar_11_21 & changetire_21) & !(movecar_11_21 & changetire_13) & !(movecar_11_21 & changetire_22) & !(movecar_11_21 & changetire_31) & !(movecar_11_12 & movecar_12_21) & !(movecar_11_12 & movecar_12_11) & !(movecar_11_12 & movecar_12_22) & !(movecar_11_12 & movecar_12_13) & !(movecar_11_12 & movecar_21_12) & !(movecar_11_12 & movecar_21_11) & !(movecar_11_12 & movecar_21_31) & !(movecar_11_12 & movecar_21_22) & !(movecar_11_12 & movecar_13_22) & !(movecar_11_12 & movecar_13_12) & !(movecar_11_12 & movecar_22_31) & !(movecar_11_12 & movecar_22_13) & !(movecar_11_12 & movecar_22_21) & !(movecar_11_12 & movecar_22_12) & !(movecar_11_12 & movecar_31_22) & !(movecar_11_12 & movecar_31_21) & !(movecar_11_12 & changetire_11) & !(movecar_11_12 & changetire_12) & !(movecar_11_12 & changetire_21) & !(movecar_11_12 & changetire_13) & !(movecar_11_12 & changetire_22) & !(movecar_11_12 & changetire_31) & !(movecar_12_21 & movecar_12_11) & !(movecar_12_21 & movecar_12_22) & !(movecar_12_21 & movecar_12_13) & !(movecar_12_21 & movecar_21_12) & !(movecar_12_21 & movecar_21_11) & !(movecar_12_21 & movecar_21_31) & !(movecar_12_21 & movecar_21_22) & !(movecar_12_21 & movecar_13_22) & !(movecar_12_21 & movecar_13_12) & !(movecar_12_21 & movecar_22_31) & !(movecar_12_21 & movecar_22_13) & !(movecar_12_21 & movecar_22_21) & !(movecar_12_21 & movecar_22_12) & !(movecar_12_21 & movecar_31_22) & !(movecar_12_21 & movecar_31_21) & !(movecar_12_21 & changetire_11) & !(movecar_12_21 & changetire_12) & !(movecar_12_21 & changetire_21) & !(movecar_12_21 & changetire_13) & !(movecar_12_21 & changetire_22) & !(movecar_12_21 & changetire_31) & !(movecar_12_11 & movecar_12_22) & !(movecar_12_11 & movecar_12_13) & !(movecar_12_11 & movecar_21_12) & !(movecar_12_11 & movecar_21_11) & !(movecar_12_11 & movecar_21_31) & !(movecar_12_11 & movecar_21_22) & !(movecar_12_11 & movecar_13_22) & !(movecar_12_11 & movecar_13_12) & !(movecar_12_11 & movecar_22_31) & !(movecar_12_11 & movecar_22_13) & !(movecar_12_11 & movecar_22_21) & !(movecar_12_11 & movecar_22_12) & !(movecar_12_11 & movecar_31_22) & !(movecar_12_11 & movecar_31_21) & !(movecar_12_11 & changetire_11) & !(movecar_12_11 & changetire_12) & !(movecar_12_11 & changetire_21) & !(movecar_12_11 & changetire_13) & !(movecar_12_11 & changetire_22) & !(movecar_12_11 & changetire_31) & !(movecar_12_22 & movecar_12_13) & !(movecar_12_22 & movecar_21_12) & !(movecar_12_22 & movecar_21_11) & !(movecar_12_22 & movecar_21_31) & !(movecar_12_22 & movecar_21_22) & !(movecar_12_22 & movecar_13_22) & !(movecar_12_22 & movecar_13_12) & !(movecar_12_22 & movecar_22_31) & !(movecar_12_22 & movecar_22_13) & !(movecar_12_22 & movecar_22_21) & !(movecar_12_22 & movecar_22_12) & !(movecar_12_22 & movecar_31_22) & !(movecar_12_22 & movecar_31_21) & !(movecar_12_22 & changetire_11) & !(movecar_12_22 & changetire_12) & !(movecar_12_22 & changetire_21) & !(movecar_12_22 & changetire_13) & !(movecar_12_22 & changetire_22) & !(movecar_12_22 & changetire_31) & !(movecar_12_13 & movecar_21_12) & !(movecar_12_13 & movecar_21_11) & !(movecar_12_13 & movecar_21_31) & !(movecar_12_13 & movecar_21_22) & !(movecar_12_13 & movecar_13_22) & !(movecar_12_13 & movecar_13_12) & !(movecar_12_13 & movecar_22_31) & !(movecar_12_13 & movecar_22_13) & !(movecar_12_13 & movecar_22_21) & !(movecar_12_13 & movecar_22_12) & !(movecar_12_13 & movecar_31_22) & !(movecar_12_13 & movecar_31_21) & !(movecar_12_13 & changetire_11) & !(movecar_12_13 & changetire_12) & !(movecar_12_13 & changetire_21) & !(movecar_12_13 & changetire_13) & !(movecar_12_13 & changetire_22) & !(movecar_12_13 & changetire_31) & !(movecar_21_12 & movecar_21_11) & !(movecar_21_12 & movecar_21_31) & !(movecar_21_12 & movecar_21_22) & !(movecar_21_12 & movecar_13_22) & !(movecar_21_12 & movecar_13_12) & !(movecar_21_12 & movecar_22_31) & !(movecar_21_12 & movecar_22_13) & !(movecar_21_12 & movecar_22_21) & !(movecar_21_12 & movecar_22_12) & !(movecar_21_12 & movecar_31_22) & !(movecar_21_12 & movecar_31_21) & !(movecar_21_12 & changetire_11) & !(movecar_21_12 & changetire_12) & !(movecar_21_12 & changetire_21) & !(movecar_21_12 & changetire_13) & !(movecar_21_12 & changetire_22) & !(movecar_21_12 & changetire_31) & !(movecar_21_11 & movecar_21_31) & !(movecar_21_11 & movecar_21_22) & !(movecar_21_11 & movecar_13_22) & !(movecar_21_11 & movecar_13_12) & !(movecar_21_11 & movecar_22_31) & !(movecar_21_11 & movecar_22_13) & !(movecar_21_11 & movecar_22_21) & !(movecar_21_11 & movecar_22_12) & !(movecar_21_11 & movecar_31_22) & !(movecar_21_11 & movecar_31_21) & !(movecar_21_11 & changetire_11) & !(movecar_21_11 & changetire_12) & !(movecar_21_11 & changetire_21) & !(movecar_21_11 & changetire_13) & !(movecar_21_11 & changetire_22) & !(movecar_21_11 & changetire_31) & !(movecar_21_31 & movecar_21_22) & !(movecar_21_31 & movecar_13_22) & !(movecar_21_31 & movecar_13_12) & !(movecar_21_31 & movecar_22_31) & !(movecar_21_31 & movecar_22_13) & !(movecar_21_31 & movecar_22_21) & !(movecar_21_31 & movecar_22_12) & !(movecar_21_31 & movecar_31_22) & !(movecar_21_31 & movecar_31_21) & !(movecar_21_31 & changetire_11) & !(movecar_21_31 & changetire_12) & !(movecar_21_31 & changetire_21) & !(movecar_21_31 & changetire_13) & !(movecar_21_31 & changetire_22) & !(movecar_21_31 & changetire_31) & !(movecar_21_22 & movecar_13_22) & !(movecar_21_22 & movecar_13_12) & !(movecar_21_22 & movecar_22_31) & !(movecar_21_22 & movecar_22_13) & !(movecar_21_22 & movecar_22_21) & !(movecar_21_22 & movecar_22_12) & !(movecar_21_22 & movecar_31_22) & !(movecar_21_22 & movecar_31_21) & !(movecar_21_22 & changetire_11) & !(movecar_21_22 & changetire_12) & !(movecar_21_22 & changetire_21) & !(movecar_21_22 & changetire_13) & !(movecar_21_22 & changetire_22) & !(movecar_21_22 & changetire_31) & !(movecar_13_22 & movecar_13_12) & !(movecar_13_22 & movecar_22_31) & !(movecar_13_22 & movecar_22_13) & !(movecar_13_22 & movecar_22_21) & !(movecar_13_22 & movecar_22_12) & !(movecar_13_22 & movecar_31_22) & !(movecar_13_22 & movecar_31_21) & !(movecar_13_22 & changetire_11) & !(movecar_13_22 & changetire_12) & !(movecar_13_22 & changetire_21) & !(movecar_13_22 & changetire_13) & !(movecar_13_22 & changetire_22) & !(movecar_13_22 & changetire_31) & !(movecar_13_12 & movecar_22_31) & !(movecar_13_12 & movecar_22_13) & !(movecar_13_12 & movecar_22_21) & !(movecar_13_12 & movecar_22_12) & !(movecar_13_12 & movecar_31_22) & !(movecar_13_12 & movecar_31_21) & !(movecar_13_12 & changetire_11) & !(movecar_13_12 & changetire_12) & !(movecar_13_12 & changetire_21) & !(movecar_13_12 & changetire_13) & !(movecar_13_12 & changetire_22) & !(movecar_13_12 & changetire_31) & !(movecar_22_31 & movecar_22_13) & !(movecar_22_31 & movecar_22_21) & !(movecar_22_31 & movecar_22_12) & !(movecar_22_31 & movecar_31_22) & !(movecar_22_31 & movecar_31_21) & !(movecar_22_31 & changetire_11) & !(movecar_22_31 & changetire_12) & !(movecar_22_31 & changetire_21) & !(movecar_22_31 & changetire_13) & !(movecar_22_31 & changetire_22) & !(movecar_22_31 & changetire_31) & !(movecar_22_13 & movecar_22_21) & !(movecar_22_13 & movecar_22_12) & !(movecar_22_13 & movecar_31_22) & !(movecar_22_13 & movecar_31_21) & !(movecar_22_13 & changetire_11) & !(movecar_22_13 & changetire_12) & !(movecar_22_13 & changetire_21) & !(movecar_22_13 & changetire_13) & !(movecar_22_13 & changetire_22) & !(movecar_22_13 & changetire_31) & !(movecar_22_21 & movecar_22_12) & !(movecar_22_21 & movecar_31_22) & !(movecar_22_21 & movecar_31_21) & !(movecar_22_21 & changetire_11) & !(movecar_22_21 & changetire_12) & !(movecar_22_21 & changetire_21) & !(movecar_22_21 & changetire_13) & !(movecar_22_21 & changetire_22) & !(movecar_22_21 & changetire_31) & !(movecar_22_12 & movecar_31_22) & !(movecar_22_12 & movecar_31_21) & !(movecar_22_12 & changetire_11) & !(movecar_22_12 & changetire_12) & !(movecar_22_12 & changetire_21) & !(movecar_22_12 & changetire_13) & !(movecar_22_12 & changetire_22) & !(movecar_22_12 & changetire_31) & !(movecar_31_22 & movecar_31_21) & !(movecar_31_22 & changetire_11) & !(movecar_31_22 & changetire_12) & !(movecar_31_22 & changetire_21) & !(movecar_31_22 & changetire_13) & !(movecar_31_22 & changetire_22) & !(movecar_31_22 & changetire_31) & !(movecar_31_21 & changetire_11) & !(movecar_31_21 & changetire_12) & !(movecar_31_21 & changetire_21) & !(movecar_31_21 & changetire_13) & !(movecar_31_21 & changetire_22) & !(movecar_31_21 & changetire_31) & !(changetire_11 & changetire_12) & !(changetire_11 & changetire_21) & !(changetire_11 & changetire_13) & !(changetire_11 & changetire_22) & !(changetire_11 & changetire_31) & !(changetire_12 & changetire_21) & !(changetire_12 & changetire_13) & !(changetire_12 & changetire_22) & !(changetire_12 & changetire_31) & !(changetire_21 & changetire_13) & !(changetire_21 & changetire_22) & !(changetire_21 & changetire_31) & !(changetire_13 & changetire_22) & !(changetire_13 & changetire_31) & !(changetire_22 & changetire_31))\n"
     ]
    }
   ],
   "source": [
    "# agent\n",
    "print(\"((\", mutual_excl_all, \") & \", mutual_excl_comb, \")\", sep='')"
   ]
  },
  {
   "cell_type": "code",
   "execution_count": 15,
   "id": "3d192fe8-f076-4f86-9667-0935bfdf1759",
   "metadata": {},
   "outputs": [
    {
     "name": "stdout",
     "output_type": "stream",
     "text": [
      "(((vehicleat_11 | vehicleat_12 | vehicleat_21 | vehicleat_13 | vehicleat_22 | vehicleat_31) & !(vehicleat_11 & vehicleat_12) & !(vehicleat_11 & vehicleat_21) & !(vehicleat_11 & vehicleat_13) & !(vehicleat_11 & vehicleat_22) & !(vehicleat_11 & vehicleat_31) & !(vehicleat_12 & vehicleat_21) & !(vehicleat_12 & vehicleat_13) & !(vehicleat_12 & vehicleat_22) & !(vehicleat_12 & vehicleat_31) & !(vehicleat_21 & vehicleat_13) & !(vehicleat_21 & vehicleat_22) & !(vehicleat_21 & vehicleat_31) & !(vehicleat_13 & vehicleat_22) & !(vehicleat_13 & vehicleat_31) & !(vehicleat_22 & vehicleat_31)) & ((vehicleat_11 -> X(movecar_11_21 -> (vehicleat_21 & (flattire | !flattire)))) & (vehicleat_11 -> X(movecar_11_12 -> (vehicleat_12 & (flattire | !flattire)))) & (vehicleat_12 -> X(movecar_12_21 -> (vehicleat_21 & (flattire | !flattire)))) & (vehicleat_12 -> X(movecar_12_11 -> (vehicleat_11 & (flattire | !flattire)))) & (vehicleat_12 -> X(movecar_12_22 -> (vehicleat_22 & (flattire | !flattire)))) & (vehicleat_12 -> X(movecar_12_13 -> (vehicleat_13 & (flattire | !flattire)))) & (vehicleat_21 -> X(movecar_21_12 -> (vehicleat_12 & (flattire | !flattire)))) & (vehicleat_21 -> X(movecar_21_11 -> (vehicleat_11 & (flattire | !flattire)))) & (vehicleat_21 -> X(movecar_21_31 -> (vehicleat_31 & (flattire | !flattire)))) & (vehicleat_21 -> X(movecar_21_22 -> (vehicleat_22 & (flattire | !flattire)))) & (vehicleat_13 -> X(movecar_13_22 -> (vehicleat_22 & (flattire | !flattire)))) & (vehicleat_13 -> X(movecar_13_12 -> (vehicleat_12 & (flattire | !flattire)))) & (vehicleat_22 -> X(movecar_22_31 -> (vehicleat_31 & (flattire | !flattire)))) & (vehicleat_22 -> X(movecar_22_13 -> (vehicleat_13 & (flattire | !flattire)))) & (vehicleat_22 -> X(movecar_22_21 -> (vehicleat_21 & (flattire | !flattire)))) & (vehicleat_22 -> X(movecar_22_12 -> (vehicleat_12 & (flattire | !flattire)))) & (vehicleat_31 -> X(movecar_31_22 -> (vehicleat_22 & (flattire | !flattire)))) & (vehicleat_31 -> X(movecar_31_21 -> (vehicleat_21 & (flattire | !flattire)))) & (sparein_11 & vehicleat_11 -> X(changetire_11 -> (!sparein_11 & !flattire & vehicleat_11))) & (sparein_12 & vehicleat_12 -> X(changetire_12 -> (!sparein_12 & !flattire & vehicleat_12))) & (sparein_21 & vehicleat_21 -> X(changetire_21 -> (!sparein_21 & !flattire & vehicleat_21))) & (sparein_13 & vehicleat_13 -> X(changetire_13 -> (!sparein_13 & !flattire & vehicleat_13))) & (sparein_22 & vehicleat_22 -> X(changetire_22 -> (!sparein_22 & !flattire & vehicleat_22))) & (sparein_31 & vehicleat_31 -> X(changetire_31 -> (!sparein_31 & !flattire & vehicleat_31)))) & (G((!sparein_11 -> X(!sparein_11)) & ((sparein_11 & !changetire_11) -> X(sparein_11)) & (!sparein_12 -> X(!sparein_12)) & ((sparein_12 & !changetire_12) -> X(sparein_12)) & (!sparein_21 -> X(!sparein_21)) & ((sparein_21 & !changetire_21) -> X(sparein_21)) & (!sparein_13 -> X(!sparein_13)) & ((sparein_13 & !changetire_13) -> X(sparein_13)) & (!sparein_22 -> X(!sparein_22)) & ((sparein_22 & !changetire_22) -> X(sparein_22)) & (!sparein_31 -> X(!sparein_31)) & ((sparein_31 & !changetire_31) -> X(sparein_31)))) & G(road_11_21 & road_11_12 & road_12_21 & road_12_11 & road_12_22 & road_12_13 & road_21_12 & road_21_11 & road_21_31 & road_21_22 & road_13_22 & road_13_12 & road_22_31 & road_22_13 & road_22_21 & road_22_12 & road_31_22 & road_31_21))\n"
     ]
    }
   ],
   "source": [
    "# environment\n",
    "# TODO: add flattire status\n",
    "print(\"(((\", mutual_excl_all_env, \") & \", mutual_excl_comb_env, \") & (\", \" & \".join(get_environment_transitions()), \") & (\", get_next_spare_status(), \") & \", get_consistent_fluents(paths), \")\", sep='')"
   ]
  },
  {
   "cell_type": "code",
   "execution_count": 16,
   "id": "22d788eb-06a0-433f-9915-3e55d6561b94",
   "metadata": {},
   "outputs": [
    {
     "name": "stdout",
     "output_type": "stream",
     "text": [
      "(X(vehicleat_11 | !vehicleat_11)) -> ((!(vehicleat_11 & road_11_21 & !flattire) -> X(!movecar_11_21)) & (!(vehicleat_11 & road_11_12 & !flattire) -> X(!movecar_11_12)) & (!(vehicleat_12 & road_12_21 & !flattire) -> X(!movecar_12_21)) & (!(vehicleat_12 & road_12_11 & !flattire) -> X(!movecar_12_11)) & (!(vehicleat_12 & road_12_22 & !flattire) -> X(!movecar_12_22)) & (!(vehicleat_12 & road_12_13 & !flattire) -> X(!movecar_12_13)) & (!(vehicleat_21 & road_21_12 & !flattire) -> X(!movecar_21_12)) & (!(vehicleat_21 & road_21_11 & !flattire) -> X(!movecar_21_11)) & (!(vehicleat_21 & road_21_31 & !flattire) -> X(!movecar_21_31)) & (!(vehicleat_21 & road_21_22 & !flattire) -> X(!movecar_21_22)) & (!(vehicleat_13 & road_13_22 & !flattire) -> X(!movecar_13_22)) & (!(vehicleat_13 & road_13_12 & !flattire) -> X(!movecar_13_12)) & (!(vehicleat_22 & road_22_31 & !flattire) -> X(!movecar_22_31)) & (!(vehicleat_22 & road_22_13 & !flattire) -> X(!movecar_22_13)) & (!(vehicleat_22 & road_22_21 & !flattire) -> X(!movecar_22_21)) & (!(vehicleat_22 & road_22_12 & !flattire) -> X(!movecar_22_12)) & (!(vehicleat_31 & road_31_22 & !flattire) -> X(!movecar_31_22)) & (!(vehicleat_31 & road_31_21 & !flattire) -> X(!movecar_31_21)) & (!(sparein_11 & vehicleat_11 & flattire) -> X(!changetire_11)) & (!(sparein_12 & vehicleat_12 & flattire) -> X(!changetire_12)) & (!(sparein_21 & vehicleat_21 & flattire) -> X(!changetire_21)) & (!(sparein_13 & vehicleat_13 & flattire) -> X(!changetire_13)) & (!(sparein_22 & vehicleat_22 & flattire) -> X(!changetire_22)) & (!(sparein_31 & vehicleat_31 & flattire) -> X(!changetire_31)))\n"
     ]
    }
   ],
   "source": [
    "# preconditions agent actions\n",
    "print(\"(X(\", env_act_list[0], \" | !\", env_act_list[0] , \")) -> (\",\" & \".join(get_agent_preconditions()),\")\", sep=\"\")"
   ]
  },
  {
   "cell_type": "code",
   "execution_count": 17,
   "id": "64c8a4e3-57b6-4996-aedb-bf365a8df544",
   "metadata": {},
   "outputs": [
    {
     "name": "stdout",
     "output_type": "stream",
     "text": [
      "F(vehicleat_21)\n"
     ]
    }
   ],
   "source": [
    "# goal\n",
    "print(get_goal(), sep='')"
   ]
  },
  {
   "cell_type": "code",
   "execution_count": 18,
   "id": "f0dfc994-5650-4b6b-a670-aab4edcd9cf4",
   "metadata": {},
   "outputs": [
    {
     "name": "stdout",
     "output_type": "stream",
     "text": [
      "(G((movecar_11_21 | movecar_11_12 | movecar_12_21 | movecar_12_11 | movecar_12_22 | movecar_12_13 | movecar_21_12 | movecar_21_11 | movecar_21_31 | movecar_21_22 | movecar_13_22 | movecar_13_12 | movecar_22_31 | movecar_22_13 | movecar_22_21 | movecar_22_12 | movecar_31_22 | movecar_31_21 | changetire_11 | changetire_12 | changetire_21 | changetire_13 | changetire_22 | changetire_31) & !(movecar_11_21 & movecar_11_12) & !(movecar_11_21 & movecar_12_21) & !(movecar_11_21 & movecar_12_11) & !(movecar_11_21 & movecar_12_22) & !(movecar_11_21 & movecar_12_13) & !(movecar_11_21 & movecar_21_12) & !(movecar_11_21 & movecar_21_11) & !(movecar_11_21 & movecar_21_31) & !(movecar_11_21 & movecar_21_22) & !(movecar_11_21 & movecar_13_22) & !(movecar_11_21 & movecar_13_12) & !(movecar_11_21 & movecar_22_31) & !(movecar_11_21 & movecar_22_13) & !(movecar_11_21 & movecar_22_21) & !(movecar_11_21 & movecar_22_12) & !(movecar_11_21 & movecar_31_22) & !(movecar_11_21 & movecar_31_21) & !(movecar_11_21 & changetire_11) & !(movecar_11_21 & changetire_12) & !(movecar_11_21 & changetire_21) & !(movecar_11_21 & changetire_13) & !(movecar_11_21 & changetire_22) & !(movecar_11_21 & changetire_31) & !(movecar_11_12 & movecar_12_21) & !(movecar_11_12 & movecar_12_11) & !(movecar_11_12 & movecar_12_22) & !(movecar_11_12 & movecar_12_13) & !(movecar_11_12 & movecar_21_12) & !(movecar_11_12 & movecar_21_11) & !(movecar_11_12 & movecar_21_31) & !(movecar_11_12 & movecar_21_22) & !(movecar_11_12 & movecar_13_22) & !(movecar_11_12 & movecar_13_12) & !(movecar_11_12 & movecar_22_31) & !(movecar_11_12 & movecar_22_13) & !(movecar_11_12 & movecar_22_21) & !(movecar_11_12 & movecar_22_12) & !(movecar_11_12 & movecar_31_22) & !(movecar_11_12 & movecar_31_21) & !(movecar_11_12 & changetire_11) & !(movecar_11_12 & changetire_12) & !(movecar_11_12 & changetire_21) & !(movecar_11_12 & changetire_13) & !(movecar_11_12 & changetire_22) & !(movecar_11_12 & changetire_31) & !(movecar_12_21 & movecar_12_11) & !(movecar_12_21 & movecar_12_22) & !(movecar_12_21 & movecar_12_13) & !(movecar_12_21 & movecar_21_12) & !(movecar_12_21 & movecar_21_11) & !(movecar_12_21 & movecar_21_31) & !(movecar_12_21 & movecar_21_22) & !(movecar_12_21 & movecar_13_22) & !(movecar_12_21 & movecar_13_12) & !(movecar_12_21 & movecar_22_31) & !(movecar_12_21 & movecar_22_13) & !(movecar_12_21 & movecar_22_21) & !(movecar_12_21 & movecar_22_12) & !(movecar_12_21 & movecar_31_22) & !(movecar_12_21 & movecar_31_21) & !(movecar_12_21 & changetire_11) & !(movecar_12_21 & changetire_12) & !(movecar_12_21 & changetire_21) & !(movecar_12_21 & changetire_13) & !(movecar_12_21 & changetire_22) & !(movecar_12_21 & changetire_31) & !(movecar_12_11 & movecar_12_22) & !(movecar_12_11 & movecar_12_13) & !(movecar_12_11 & movecar_21_12) & !(movecar_12_11 & movecar_21_11) & !(movecar_12_11 & movecar_21_31) & !(movecar_12_11 & movecar_21_22) & !(movecar_12_11 & movecar_13_22) & !(movecar_12_11 & movecar_13_12) & !(movecar_12_11 & movecar_22_31) & !(movecar_12_11 & movecar_22_13) & !(movecar_12_11 & movecar_22_21) & !(movecar_12_11 & movecar_22_12) & !(movecar_12_11 & movecar_31_22) & !(movecar_12_11 & movecar_31_21) & !(movecar_12_11 & changetire_11) & !(movecar_12_11 & changetire_12) & !(movecar_12_11 & changetire_21) & !(movecar_12_11 & changetire_13) & !(movecar_12_11 & changetire_22) & !(movecar_12_11 & changetire_31) & !(movecar_12_22 & movecar_12_13) & !(movecar_12_22 & movecar_21_12) & !(movecar_12_22 & movecar_21_11) & !(movecar_12_22 & movecar_21_31) & !(movecar_12_22 & movecar_21_22) & !(movecar_12_22 & movecar_13_22) & !(movecar_12_22 & movecar_13_12) & !(movecar_12_22 & movecar_22_31) & !(movecar_12_22 & movecar_22_13) & !(movecar_12_22 & movecar_22_21) & !(movecar_12_22 & movecar_22_12) & !(movecar_12_22 & movecar_31_22) & !(movecar_12_22 & movecar_31_21) & !(movecar_12_22 & changetire_11) & !(movecar_12_22 & changetire_12) & !(movecar_12_22 & changetire_21) & !(movecar_12_22 & changetire_13) & !(movecar_12_22 & changetire_22) & !(movecar_12_22 & changetire_31) & !(movecar_12_13 & movecar_21_12) & !(movecar_12_13 & movecar_21_11) & !(movecar_12_13 & movecar_21_31) & !(movecar_12_13 & movecar_21_22) & !(movecar_12_13 & movecar_13_22) & !(movecar_12_13 & movecar_13_12) & !(movecar_12_13 & movecar_22_31) & !(movecar_12_13 & movecar_22_13) & !(movecar_12_13 & movecar_22_21) & !(movecar_12_13 & movecar_22_12) & !(movecar_12_13 & movecar_31_22) & !(movecar_12_13 & movecar_31_21) & !(movecar_12_13 & changetire_11) & !(movecar_12_13 & changetire_12) & !(movecar_12_13 & changetire_21) & !(movecar_12_13 & changetire_13) & !(movecar_12_13 & changetire_22) & !(movecar_12_13 & changetire_31) & !(movecar_21_12 & movecar_21_11) & !(movecar_21_12 & movecar_21_31) & !(movecar_21_12 & movecar_21_22) & !(movecar_21_12 & movecar_13_22) & !(movecar_21_12 & movecar_13_12) & !(movecar_21_12 & movecar_22_31) & !(movecar_21_12 & movecar_22_13) & !(movecar_21_12 & movecar_22_21) & !(movecar_21_12 & movecar_22_12) & !(movecar_21_12 & movecar_31_22) & !(movecar_21_12 & movecar_31_21) & !(movecar_21_12 & changetire_11) & !(movecar_21_12 & changetire_12) & !(movecar_21_12 & changetire_21) & !(movecar_21_12 & changetire_13) & !(movecar_21_12 & changetire_22) & !(movecar_21_12 & changetire_31) & !(movecar_21_11 & movecar_21_31) & !(movecar_21_11 & movecar_21_22) & !(movecar_21_11 & movecar_13_22) & !(movecar_21_11 & movecar_13_12) & !(movecar_21_11 & movecar_22_31) & !(movecar_21_11 & movecar_22_13) & !(movecar_21_11 & movecar_22_21) & !(movecar_21_11 & movecar_22_12) & !(movecar_21_11 & movecar_31_22) & !(movecar_21_11 & movecar_31_21) & !(movecar_21_11 & changetire_11) & !(movecar_21_11 & changetire_12) & !(movecar_21_11 & changetire_21) & !(movecar_21_11 & changetire_13) & !(movecar_21_11 & changetire_22) & !(movecar_21_11 & changetire_31) & !(movecar_21_31 & movecar_21_22) & !(movecar_21_31 & movecar_13_22) & !(movecar_21_31 & movecar_13_12) & !(movecar_21_31 & movecar_22_31) & !(movecar_21_31 & movecar_22_13) & !(movecar_21_31 & movecar_22_21) & !(movecar_21_31 & movecar_22_12) & !(movecar_21_31 & movecar_31_22) & !(movecar_21_31 & movecar_31_21) & !(movecar_21_31 & changetire_11) & !(movecar_21_31 & changetire_12) & !(movecar_21_31 & changetire_21) & !(movecar_21_31 & changetire_13) & !(movecar_21_31 & changetire_22) & !(movecar_21_31 & changetire_31) & !(movecar_21_22 & movecar_13_22) & !(movecar_21_22 & movecar_13_12) & !(movecar_21_22 & movecar_22_31) & !(movecar_21_22 & movecar_22_13) & !(movecar_21_22 & movecar_22_21) & !(movecar_21_22 & movecar_22_12) & !(movecar_21_22 & movecar_31_22) & !(movecar_21_22 & movecar_31_21) & !(movecar_21_22 & changetire_11) & !(movecar_21_22 & changetire_12) & !(movecar_21_22 & changetire_21) & !(movecar_21_22 & changetire_13) & !(movecar_21_22 & changetire_22) & !(movecar_21_22 & changetire_31) & !(movecar_13_22 & movecar_13_12) & !(movecar_13_22 & movecar_22_31) & !(movecar_13_22 & movecar_22_13) & !(movecar_13_22 & movecar_22_21) & !(movecar_13_22 & movecar_22_12) & !(movecar_13_22 & movecar_31_22) & !(movecar_13_22 & movecar_31_21) & !(movecar_13_22 & changetire_11) & !(movecar_13_22 & changetire_12) & !(movecar_13_22 & changetire_21) & !(movecar_13_22 & changetire_13) & !(movecar_13_22 & changetire_22) & !(movecar_13_22 & changetire_31) & !(movecar_13_12 & movecar_22_31) & !(movecar_13_12 & movecar_22_13) & !(movecar_13_12 & movecar_22_21) & !(movecar_13_12 & movecar_22_12) & !(movecar_13_12 & movecar_31_22) & !(movecar_13_12 & movecar_31_21) & !(movecar_13_12 & changetire_11) & !(movecar_13_12 & changetire_12) & !(movecar_13_12 & changetire_21) & !(movecar_13_12 & changetire_13) & !(movecar_13_12 & changetire_22) & !(movecar_13_12 & changetire_31) & !(movecar_22_31 & movecar_22_13) & !(movecar_22_31 & movecar_22_21) & !(movecar_22_31 & movecar_22_12) & !(movecar_22_31 & movecar_31_22) & !(movecar_22_31 & movecar_31_21) & !(movecar_22_31 & changetire_11) & !(movecar_22_31 & changetire_12) & !(movecar_22_31 & changetire_21) & !(movecar_22_31 & changetire_13) & !(movecar_22_31 & changetire_22) & !(movecar_22_31 & changetire_31) & !(movecar_22_13 & movecar_22_21) & !(movecar_22_13 & movecar_22_12) & !(movecar_22_13 & movecar_31_22) & !(movecar_22_13 & movecar_31_21) & !(movecar_22_13 & changetire_11) & !(movecar_22_13 & changetire_12) & !(movecar_22_13 & changetire_21) & !(movecar_22_13 & changetire_13) & !(movecar_22_13 & changetire_22) & !(movecar_22_13 & changetire_31) & !(movecar_22_21 & movecar_22_12) & !(movecar_22_21 & movecar_31_22) & !(movecar_22_21 & movecar_31_21) & !(movecar_22_21 & changetire_11) & !(movecar_22_21 & changetire_12) & !(movecar_22_21 & changetire_21) & !(movecar_22_21 & changetire_13) & !(movecar_22_21 & changetire_22) & !(movecar_22_21 & changetire_31) & !(movecar_22_12 & movecar_31_22) & !(movecar_22_12 & movecar_31_21) & !(movecar_22_12 & changetire_11) & !(movecar_22_12 & changetire_12) & !(movecar_22_12 & changetire_21) & !(movecar_22_12 & changetire_13) & !(movecar_22_12 & changetire_22) & !(movecar_22_12 & changetire_31) & !(movecar_31_22 & movecar_31_21) & !(movecar_31_22 & changetire_11) & !(movecar_31_22 & changetire_12) & !(movecar_31_22 & changetire_21) & !(movecar_31_22 & changetire_13) & !(movecar_31_22 & changetire_22) & !(movecar_31_22 & changetire_31) & !(movecar_31_21 & changetire_11) & !(movecar_31_21 & changetire_12) & !(movecar_31_21 & changetire_21) & !(movecar_31_21 & changetire_13) & !(movecar_31_21 & changetire_22) & !(movecar_31_21 & changetire_31) & !(changetire_11 & changetire_12) & !(changetire_11 & changetire_21) & !(changetire_11 & changetire_13) & !(changetire_11 & changetire_22) & !(changetire_11 & changetire_31) & !(changetire_12 & changetire_21) & !(changetire_12 & changetire_13) & !(changetire_12 & changetire_22) & !(changetire_12 & changetire_31) & !(changetire_21 & changetire_13) & !(changetire_21 & changetire_22) & !(changetire_21 & changetire_31) & !(changetire_13 & changetire_22) & !(changetire_13 & changetire_31) & !(changetire_22 & changetire_31))) & (((!flattire & vehicleat_11 & sparein_12 & sparein_11 & sparein_21) & G(((vehicleat_11 | vehicleat_12 | vehicleat_21 | vehicleat_13 | vehicleat_22 | vehicleat_31) & !(vehicleat_11 & vehicleat_12) & !(vehicleat_11 & vehicleat_21) & !(vehicleat_11 & vehicleat_13) & !(vehicleat_11 & vehicleat_22) & !(vehicleat_11 & vehicleat_31) & !(vehicleat_12 & vehicleat_21) & !(vehicleat_12 & vehicleat_13) & !(vehicleat_12 & vehicleat_22) & !(vehicleat_12 & vehicleat_31) & !(vehicleat_21 & vehicleat_13) & !(vehicleat_21 & vehicleat_22) & !(vehicleat_21 & vehicleat_31) & !(vehicleat_13 & vehicleat_22) & !(vehicleat_13 & vehicleat_31) & !(vehicleat_22 & vehicleat_31)) & ((vehicleat_11 -> X(movecar_11_21 -> (vehicleat_21 & (flattire | !flattire)))) & (vehicleat_11 -> X(movecar_11_12 -> (vehicleat_12 & (flattire | !flattire)))) & (vehicleat_12 -> X(movecar_12_21 -> (vehicleat_21 & (flattire | !flattire)))) & (vehicleat_12 -> X(movecar_12_11 -> (vehicleat_11 & (flattire | !flattire)))) & (vehicleat_12 -> X(movecar_12_22 -> (vehicleat_22 & (flattire | !flattire)))) & (vehicleat_12 -> X(movecar_12_13 -> (vehicleat_13 & (flattire | !flattire)))) & (vehicleat_21 -> X(movecar_21_12 -> (vehicleat_12 & (flattire | !flattire)))) & (vehicleat_21 -> X(movecar_21_11 -> (vehicleat_11 & (flattire | !flattire)))) & (vehicleat_21 -> X(movecar_21_31 -> (vehicleat_31 & (flattire | !flattire)))) & (vehicleat_21 -> X(movecar_21_22 -> (vehicleat_22 & (flattire | !flattire)))) & (vehicleat_13 -> X(movecar_13_22 -> (vehicleat_22 & (flattire | !flattire)))) & (vehicleat_13 -> X(movecar_13_12 -> (vehicleat_12 & (flattire | !flattire)))) & (vehicleat_22 -> X(movecar_22_31 -> (vehicleat_31 & (flattire | !flattire)))) & (vehicleat_22 -> X(movecar_22_13 -> (vehicleat_13 & (flattire | !flattire)))) & (vehicleat_22 -> X(movecar_22_21 -> (vehicleat_21 & (flattire | !flattire)))) & (vehicleat_22 -> X(movecar_22_12 -> (vehicleat_12 & (flattire | !flattire)))) & (vehicleat_31 -> X(movecar_31_22 -> (vehicleat_22 & (flattire | !flattire)))) & (vehicleat_31 -> X(movecar_31_21 -> (vehicleat_21 & (flattire | !flattire)))) & (sparein_11 & vehicleat_11 -> X(changetire_11 -> (!sparein_11 & !flattire & vehicleat_11))) & (sparein_12 & vehicleat_12 -> X(changetire_12 -> (!sparein_12 & !flattire & vehicleat_12))) & (sparein_21 & vehicleat_21 -> X(changetire_21 -> (!sparein_21 & !flattire & vehicleat_21))) & (sparein_13 & vehicleat_13 -> X(changetire_13 -> (!sparein_13 & !flattire & vehicleat_13))) & (sparein_22 & vehicleat_22 -> X(changetire_22 -> (!sparein_22 & !flattire & vehicleat_22))) & (sparein_31 & vehicleat_31 -> X(changetire_31 -> (!sparein_31 & !flattire & vehicleat_31)))) & (G((!sparein_11 -> X(!sparein_11)) & ((sparein_11 & !changetire_11) -> X(sparein_11)) & (!sparein_12 -> X(!sparein_12)) & ((sparein_12 & !changetire_12) -> X(sparein_12)) & (!sparein_21 -> X(!sparein_21)) & ((sparein_21 & !changetire_21) -> X(sparein_21)) & (!sparein_13 -> X(!sparein_13)) & ((sparein_13 & !changetire_13) -> X(sparein_13)) & (!sparein_22 -> X(!sparein_22)) & ((sparein_22 & !changetire_22) -> X(sparein_22)) & (!sparein_31 -> X(!sparein_31)) & ((sparein_31 & !changetire_31) -> X(sparein_31)))) & G(road_11_21 & road_11_12 & road_12_21 & road_12_11 & road_12_22 & road_12_13 & road_21_12 & road_21_11 & road_21_31 & road_21_22 & road_13_22 & road_13_12 & road_22_31 & road_22_13 & road_22_21 & road_22_12 & road_31_22 & road_31_21))) -> ((G((X(vehicleat_11 | !vehicleat_11)) -> ((!(vehicleat_11 & road_11_21 & !flattire) -> X(!movecar_11_21)) & (!(vehicleat_11 & road_11_12 & !flattire) -> X(!movecar_11_12)) & (!(vehicleat_12 & road_12_21 & !flattire) -> X(!movecar_12_21)) & (!(vehicleat_12 & road_12_11 & !flattire) -> X(!movecar_12_11)) & (!(vehicleat_12 & road_12_22 & !flattire) -> X(!movecar_12_22)) & (!(vehicleat_12 & road_12_13 & !flattire) -> X(!movecar_12_13)) & (!(vehicleat_21 & road_21_12 & !flattire) -> X(!movecar_21_12)) & (!(vehicleat_21 & road_21_11 & !flattire) -> X(!movecar_21_11)) & (!(vehicleat_21 & road_21_31 & !flattire) -> X(!movecar_21_31)) & (!(vehicleat_21 & road_21_22 & !flattire) -> X(!movecar_21_22)) & (!(vehicleat_13 & road_13_22 & !flattire) -> X(!movecar_13_22)) & (!(vehicleat_13 & road_13_12 & !flattire) -> X(!movecar_13_12)) & (!(vehicleat_22 & road_22_31 & !flattire) -> X(!movecar_22_31)) & (!(vehicleat_22 & road_22_13 & !flattire) -> X(!movecar_22_13)) & (!(vehicleat_22 & road_22_21 & !flattire) -> X(!movecar_22_21)) & (!(vehicleat_22 & road_22_12 & !flattire) -> X(!movecar_22_12)) & (!(vehicleat_31 & road_31_22 & !flattire) -> X(!movecar_31_22)) & (!(vehicleat_31 & road_31_21 & !flattire) -> X(!movecar_31_21)) & (!(sparein_11 & vehicleat_11 & flattire) -> X(!changetire_11)) & (!(sparein_12 & vehicleat_12 & flattire) -> X(!changetire_12)) & (!(sparein_21 & vehicleat_21 & flattire) -> X(!changetire_21)) & (!(sparein_13 & vehicleat_13 & flattire) -> X(!changetire_13)) & (!(sparein_22 & vehicleat_22 & flattire) -> X(!changetire_22)) & (!(sparein_31 & vehicleat_31 & flattire) -> X(!changetire_31))))) & (F(vehicleat_21))))\n"
     ]
    }
   ],
   "source": [
    "# complete formula, written as follows: (G(phi_agent_unique_act) & ((phi_env_init & G(phi_env_transitions_and_fluents)) -> ((G(phi_agent_act_preconditions)) & (phi_goal))))\n",
    "print(\"(G((\", mutual_excl_all, \") & \", mutual_excl_comb, \")) & (((\", get_initialization(), \") & G(((\", mutual_excl_all_env, \") & \", mutual_excl_comb_env, \") & (\", \" & \".join(get_environment_transitions()), \") & (\", get_next_spare_status(), \") & \", get_consistent_fluents(paths), \")) -> ((G((X(\", env_act_list[0], \" | !\", env_act_list[0] , \")) -> (\",\" & \".join(get_agent_preconditions()),\"))) & (\", get_goal(), \")))\" , sep='')\n"
   ]
  },
  {
   "cell_type": "code",
   "execution_count": null,
   "id": "5d93ca9c-e904-42e7-9511-6af4ebb4c517",
   "metadata": {},
   "outputs": [],
   "source": []
  }
 ],
 "metadata": {
  "kernelspec": {
   "display_name": "Python 3 (ipykernel)",
   "language": "python",
   "name": "python3"
  },
  "language_info": {
   "codemirror_mode": {
    "name": "ipython",
    "version": 3
   },
   "file_extension": ".py",
   "mimetype": "text/x-python",
   "name": "python",
   "nbconvert_exporter": "python",
   "pygments_lexer": "ipython3",
   "version": "3.11.7"
  }
 },
 "nbformat": 4,
 "nbformat_minor": 5
}
